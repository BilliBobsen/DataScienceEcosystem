{
 "cells": [
  {
   "cell_type": "markdown",
   "id": "baf1c5c5",
   "metadata": {},
   "source": [
    "# Data Science Tools and Ecosystem"
   ]
  },
  {
   "cell_type": "markdown",
   "id": "bcd2f646",
   "metadata": {},
   "source": [
    "## Author\n",
    "BilliBobsen"
   ]
  },
  {
   "cell_type": "markdown",
   "id": "3a93ca2a",
   "metadata": {},
   "source": [
    "Objectives:\n",
    "- list of popular languages\n",
    "- list of used Data Scientist tools\n",
    "- list of languages of data Scientists"
   ]
  },
  {
   "cell_type": "markdown",
   "id": "fda44252",
   "metadata": {},
   "source": [
    "In this notebook, Data Science Tools and Ecosystem are summarized."
   ]
  },
  {
   "cell_type": "markdown",
   "id": "d841b32c",
   "metadata": {},
   "source": [
    "Some of the popular languages that Data Scientists use are:\n",
    "1. Python\n",
    "2. R\n",
    "3. SQL\n",
    "4. Julia"
   ]
  },
  {
   "cell_type": "markdown",
   "id": "b41f6646",
   "metadata": {},
   "source": [
    "Some of the commonly used libraries used by Data Scientists include:\n",
    "1. Pandas\n",
    "2. Numpy\n",
    "3. SciPy"
   ]
  },
  {
   "cell_type": "markdown",
   "id": "77cc0aba",
   "metadata": {},
   "source": [
    "| Data Science Tools |\n",
    "|---|\n",
    "| Apache Hadoop |\n",
    "| TensorFlow |\n",
    "| Matplotlib |\n",
    "| Apache Spark |"
   ]
  },
  {
   "cell_type": "markdown",
   "id": "4c02b2e8",
   "metadata": {},
   "source": [
    "Below are a few examples of evaluating arithmetic expressions in Python\n"
   ]
  },
  {
   "cell_type": "code",
   "execution_count": 4,
   "id": "1081ad58",
   "metadata": {},
   "outputs": [
    {
     "data": {
      "text/plain": [
       "17"
      ]
     },
     "execution_count": 4,
     "metadata": {},
     "output_type": "execute_result"
    }
   ],
   "source": [
    "#This a simple arithmetic expression to mutiply then add integers \n",
    "(3*4)+5"
   ]
  },
  {
   "cell_type": "code",
   "execution_count": 11,
   "id": "7c104779",
   "metadata": {},
   "outputs": [
    {
     "name": "stdout",
     "output_type": "stream",
     "text": [
      "3.3333333333333335 min\n"
     ]
    }
   ],
   "source": [
    "# This will convert 200 minutes to hours by diving by 60\n",
    "time_min = 200 # min\n",
    "time_h = time_min/60.\n",
    "print(\"{} min\".format(time_h))"
   ]
  }
 ],
 "metadata": {
  "kernelspec": {
   "display_name": "Python 3 (ipykernel)",
   "language": "python",
   "name": "python3"
  },
  "language_info": {
   "codemirror_mode": {
    "name": "ipython",
    "version": 3
   },
   "file_extension": ".py",
   "mimetype": "text/x-python",
   "name": "python",
   "nbconvert_exporter": "python",
   "pygments_lexer": "ipython3",
   "version": "3.10.4"
  },
  "varInspector": {
   "cols": {
    "lenName": 16,
    "lenType": 16,
    "lenVar": 40
   },
   "kernels_config": {
    "python": {
     "delete_cmd_postfix": "",
     "delete_cmd_prefix": "del ",
     "library": "var_list.py",
     "varRefreshCmd": "print(var_dic_list())"
    },
    "r": {
     "delete_cmd_postfix": ") ",
     "delete_cmd_prefix": "rm(",
     "library": "var_list.r",
     "varRefreshCmd": "cat(var_dic_list()) "
    }
   },
   "types_to_exclude": [
    "module",
    "function",
    "builtin_function_or_method",
    "instance",
    "_Feature"
   ],
   "window_display": false
  }
 },
 "nbformat": 4,
 "nbformat_minor": 5
}
